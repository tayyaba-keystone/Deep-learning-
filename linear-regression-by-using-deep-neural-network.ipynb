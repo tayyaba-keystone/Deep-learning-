{
 "cells": [
  {
   "cell_type": "markdown",
   "id": "21650481",
   "metadata": {
    "papermill": {
     "duration": 0.004534,
     "end_time": "2025-04-04T16:54:03.341492",
     "exception": false,
     "start_time": "2025-04-04T16:54:03.336958",
     "status": "completed"
    },
    "tags": []
   },
   "source": [
    "**Tayyaba Bagwan        Rollno:03        Practical:1**\n",
    "\n"
   ]
  },
  {
   "cell_type": "markdown",
   "id": "8b0d8d8f",
   "metadata": {
    "papermill": {
     "duration": 0.003331,
     "end_time": "2025-04-04T16:54:03.348760",
     "exception": false,
     "start_time": "2025-04-04T16:54:03.345429",
     "status": "completed"
    },
    "tags": []
   },
   "source": [
    "**Import Libraries and Load Data**"
   ]
  },
  {
   "cell_type": "code",
   "execution_count": 1,
   "id": "2607646b",
   "metadata": {
    "execution": {
     "iopub.execute_input": "2025-04-04T16:54:03.357621Z",
     "iopub.status.busy": "2025-04-04T16:54:03.357257Z",
     "iopub.status.idle": "2025-04-04T16:54:20.247563Z",
     "shell.execute_reply": "2025-04-04T16:54:20.246510Z"
    },
    "papermill": {
     "duration": 16.896967,
     "end_time": "2025-04-04T16:54:20.249645",
     "exception": false,
     "start_time": "2025-04-04T16:54:03.352678",
     "status": "completed"
    },
    "tags": []
   },
   "outputs": [],
   "source": [
    "import pandas as pd\n",
    "import numpy as np\n",
    "import matplotlib.pyplot as plt\n",
    "from sklearn.model_selection import train_test_split\n",
    "from sklearn.preprocessing import StandardScaler\n",
    "import tensorflow as tf\n",
    "from tensorflow.keras import layers, models"
   ]
  },
  {
   "cell_type": "code",
   "execution_count": 2,
   "id": "ef899081",
   "metadata": {
    "execution": {
     "iopub.execute_input": "2025-04-04T16:54:20.258737Z",
     "iopub.status.busy": "2025-04-04T16:54:20.258100Z",
     "iopub.status.idle": "2025-04-04T16:54:20.309579Z",
     "shell.execute_reply": "2025-04-04T16:54:20.308512Z"
    },
    "papermill": {
     "duration": 0.05769,
     "end_time": "2025-04-04T16:54:20.311243",
     "exception": false,
     "start_time": "2025-04-04T16:54:20.253553",
     "status": "completed"
    },
    "tags": []
   },
   "outputs": [
    {
     "data": {
      "text/html": [
       "<div>\n",
       "<style scoped>\n",
       "    .dataframe tbody tr th:only-of-type {\n",
       "        vertical-align: middle;\n",
       "    }\n",
       "\n",
       "    .dataframe tbody tr th {\n",
       "        vertical-align: top;\n",
       "    }\n",
       "\n",
       "    .dataframe thead th {\n",
       "        text-align: right;\n",
       "    }\n",
       "</style>\n",
       "<table border=\"1\" class=\"dataframe\">\n",
       "  <thead>\n",
       "    <tr style=\"text-align: right;\">\n",
       "      <th></th>\n",
       "      <th>CRIM</th>\n",
       "      <th>ZN</th>\n",
       "      <th>INDUS</th>\n",
       "      <th>CHAS</th>\n",
       "      <th>NOX</th>\n",
       "      <th>RM</th>\n",
       "      <th>AGE</th>\n",
       "      <th>DIS</th>\n",
       "      <th>RAD</th>\n",
       "      <th>TAX</th>\n",
       "      <th>PTRATIO</th>\n",
       "      <th>B</th>\n",
       "      <th>LSTAT</th>\n",
       "      <th>MEDV</th>\n",
       "    </tr>\n",
       "  </thead>\n",
       "  <tbody>\n",
       "    <tr>\n",
       "      <th>0</th>\n",
       "      <td>0.00632</td>\n",
       "      <td>18.0</td>\n",
       "      <td>2.31</td>\n",
       "      <td>0</td>\n",
       "      <td>0.538</td>\n",
       "      <td>6.575</td>\n",
       "      <td>65.2</td>\n",
       "      <td>4.0900</td>\n",
       "      <td>1</td>\n",
       "      <td>296.0</td>\n",
       "      <td>15.3</td>\n",
       "      <td>396.90</td>\n",
       "      <td>4.98</td>\n",
       "      <td>24.0</td>\n",
       "    </tr>\n",
       "    <tr>\n",
       "      <th>1</th>\n",
       "      <td>0.02731</td>\n",
       "      <td>0.0</td>\n",
       "      <td>7.07</td>\n",
       "      <td>0</td>\n",
       "      <td>0.469</td>\n",
       "      <td>6.421</td>\n",
       "      <td>78.9</td>\n",
       "      <td>4.9671</td>\n",
       "      <td>2</td>\n",
       "      <td>242.0</td>\n",
       "      <td>17.8</td>\n",
       "      <td>396.90</td>\n",
       "      <td>9.14</td>\n",
       "      <td>21.6</td>\n",
       "    </tr>\n",
       "    <tr>\n",
       "      <th>2</th>\n",
       "      <td>0.02729</td>\n",
       "      <td>0.0</td>\n",
       "      <td>7.07</td>\n",
       "      <td>0</td>\n",
       "      <td>0.469</td>\n",
       "      <td>7.185</td>\n",
       "      <td>61.1</td>\n",
       "      <td>4.9671</td>\n",
       "      <td>2</td>\n",
       "      <td>242.0</td>\n",
       "      <td>17.8</td>\n",
       "      <td>392.83</td>\n",
       "      <td>4.03</td>\n",
       "      <td>34.7</td>\n",
       "    </tr>\n",
       "    <tr>\n",
       "      <th>3</th>\n",
       "      <td>0.03237</td>\n",
       "      <td>0.0</td>\n",
       "      <td>2.18</td>\n",
       "      <td>0</td>\n",
       "      <td>0.458</td>\n",
       "      <td>6.998</td>\n",
       "      <td>45.8</td>\n",
       "      <td>6.0622</td>\n",
       "      <td>3</td>\n",
       "      <td>222.0</td>\n",
       "      <td>18.7</td>\n",
       "      <td>394.63</td>\n",
       "      <td>2.94</td>\n",
       "      <td>33.4</td>\n",
       "    </tr>\n",
       "    <tr>\n",
       "      <th>4</th>\n",
       "      <td>0.06905</td>\n",
       "      <td>0.0</td>\n",
       "      <td>2.18</td>\n",
       "      <td>0</td>\n",
       "      <td>0.458</td>\n",
       "      <td>7.147</td>\n",
       "      <td>54.2</td>\n",
       "      <td>6.0622</td>\n",
       "      <td>3</td>\n",
       "      <td>222.0</td>\n",
       "      <td>18.7</td>\n",
       "      <td>396.90</td>\n",
       "      <td>5.33</td>\n",
       "      <td>36.2</td>\n",
       "    </tr>\n",
       "  </tbody>\n",
       "</table>\n",
       "</div>"
      ],
      "text/plain": [
       "      CRIM    ZN  INDUS  CHAS    NOX     RM   AGE     DIS  RAD    TAX  \\\n",
       "0  0.00632  18.0   2.31     0  0.538  6.575  65.2  4.0900    1  296.0   \n",
       "1  0.02731   0.0   7.07     0  0.469  6.421  78.9  4.9671    2  242.0   \n",
       "2  0.02729   0.0   7.07     0  0.469  7.185  61.1  4.9671    2  242.0   \n",
       "3  0.03237   0.0   2.18     0  0.458  6.998  45.8  6.0622    3  222.0   \n",
       "4  0.06905   0.0   2.18     0  0.458  7.147  54.2  6.0622    3  222.0   \n",
       "\n",
       "   PTRATIO       B  LSTAT  MEDV  \n",
       "0     15.3  396.90   4.98  24.0  \n",
       "1     17.8  396.90   9.14  21.6  \n",
       "2     17.8  392.83   4.03  34.7  \n",
       "3     18.7  394.63   2.94  33.4  \n",
       "4     18.7  396.90   5.33  36.2  "
      ]
     },
     "execution_count": 2,
     "metadata": {},
     "output_type": "execute_result"
    }
   ],
   "source": [
    "data = pd.read_csv(\"/kaggle/input/the-boston-houseprice-data/boston.csv\")\n",
    "data.head()"
   ]
  },
  {
   "cell_type": "markdown",
   "id": "214d3270",
   "metadata": {
    "papermill": {
     "duration": 0.003645,
     "end_time": "2025-04-04T16:54:20.319043",
     "exception": false,
     "start_time": "2025-04-04T16:54:20.315398",
     "status": "completed"
    },
    "tags": []
   },
   "source": [
    "**Preprocess the Data**"
   ]
  },
  {
   "cell_type": "code",
   "execution_count": 3,
   "id": "892e199b",
   "metadata": {
    "execution": {
     "iopub.execute_input": "2025-04-04T16:54:20.328109Z",
     "iopub.status.busy": "2025-04-04T16:54:20.327776Z",
     "iopub.status.idle": "2025-04-04T16:54:20.338002Z",
     "shell.execute_reply": "2025-04-04T16:54:20.336829Z"
    },
    "papermill": {
     "duration": 0.016741,
     "end_time": "2025-04-04T16:54:20.339709",
     "exception": false,
     "start_time": "2025-04-04T16:54:20.322968",
     "status": "completed"
    },
    "tags": []
   },
   "outputs": [],
   "source": [
    "# Separate features (independent variables) and target (dependent variable)\n",
    "# 'MEDV' is the target column representing the house price\n",
    "X = data.drop(\"MEDV\", axis=1)  # Drop 'MEDV' to get all input features\n",
    "y = data[\"MEDV\"]               # Store the target values (house prices)"
   ]
  },
  {
   "cell_type": "code",
   "execution_count": 4,
   "id": "095964ac",
   "metadata": {
    "execution": {
     "iopub.execute_input": "2025-04-04T16:54:20.348974Z",
     "iopub.status.busy": "2025-04-04T16:54:20.348654Z",
     "iopub.status.idle": "2025-04-04T16:54:20.354855Z",
     "shell.execute_reply": "2025-04-04T16:54:20.354008Z"
    },
    "papermill": {
     "duration": 0.012551,
     "end_time": "2025-04-04T16:54:20.356401",
     "exception": false,
     "start_time": "2025-04-04T16:54:20.343850",
     "status": "completed"
    },
    "tags": []
   },
   "outputs": [],
   "source": [
    "# Split the dataset into training and testing sets\n",
    "# 80% for training and 20% for testing\n",
    "X_train, X_test, y_train, y_test = train_test_split(X, y, test_size=0.2, random_state=42)"
   ]
  },
  {
   "cell_type": "code",
   "execution_count": 5,
   "id": "1c11b382",
   "metadata": {
    "execution": {
     "iopub.execute_input": "2025-04-04T16:54:20.365517Z",
     "iopub.status.busy": "2025-04-04T16:54:20.365168Z",
     "iopub.status.idle": "2025-04-04T16:54:20.375947Z",
     "shell.execute_reply": "2025-04-04T16:54:20.375041Z"
    },
    "papermill": {
     "duration": 0.017218,
     "end_time": "2025-04-04T16:54:20.377695",
     "exception": false,
     "start_time": "2025-04-04T16:54:20.360477",
     "status": "completed"
    },
    "tags": []
   },
   "outputs": [],
   "source": [
    "# Standardize the feature data (important for neural networks)\n",
    "# This scales the features to have mean 0 and standard deviation 1\n",
    "scaler = StandardScaler()         # Create a scaler object\n",
    "X_train = scaler.fit_transform(X_train)  # Fit to training data and transform it\n",
    "X_test = scaler.transform(X_test)       # Use the same scaler to transform the test data"
   ]
  },
  {
   "cell_type": "markdown",
   "id": "91f1f90d",
   "metadata": {
    "papermill": {
     "duration": 0.003569,
     "end_time": "2025-04-04T16:54:20.385293",
     "exception": false,
     "start_time": "2025-04-04T16:54:20.381724",
     "status": "completed"
    },
    "tags": []
   },
   "source": [
    "**Build and Train the Model**"
   ]
  },
  {
   "cell_type": "code",
   "execution_count": 6,
   "id": "724d7614",
   "metadata": {
    "execution": {
     "iopub.execute_input": "2025-04-04T16:54:20.394286Z",
     "iopub.status.busy": "2025-04-04T16:54:20.393800Z",
     "iopub.status.idle": "2025-04-04T16:54:20.401168Z",
     "shell.execute_reply": "2025-04-04T16:54:20.400004Z"
    },
    "papermill": {
     "duration": 0.01386,
     "end_time": "2025-04-04T16:54:20.403030",
     "exception": false,
     "start_time": "2025-04-04T16:54:20.389170",
     "status": "completed"
    },
    "tags": []
   },
   "outputs": [],
   "source": [
    "from tensorflow.keras.models import Sequential\n",
    "from tensorflow.keras.layers import Dense"
   ]
  },
  {
   "cell_type": "code",
   "execution_count": 7,
   "id": "7a40124a",
   "metadata": {
    "execution": {
     "iopub.execute_input": "2025-04-04T16:54:20.412888Z",
     "iopub.status.busy": "2025-04-04T16:54:20.412562Z",
     "iopub.status.idle": "2025-04-04T16:54:20.492444Z",
     "shell.execute_reply": "2025-04-04T16:54:20.491304Z"
    },
    "papermill": {
     "duration": 0.08708,
     "end_time": "2025-04-04T16:54:20.494478",
     "exception": false,
     "start_time": "2025-04-04T16:54:20.407398",
     "status": "completed"
    },
    "tags": []
   },
   "outputs": [
    {
     "name": "stderr",
     "output_type": "stream",
     "text": [
      "/usr/local/lib/python3.10/dist-packages/keras/src/layers/core/dense.py:87: UserWarning: Do not pass an `input_shape`/`input_dim` argument to a layer. When using Sequential models, prefer using an `Input(shape)` object as the first layer in the model instead.\n",
      "  super().__init__(activity_regularizer=activity_regularizer, **kwargs)\n"
     ]
    }
   ],
   "source": [
    "model = Sequential()\n",
    "model.add(Dense(64, activation='relu', input_shape=(13,)))\n",
    "model.add(Dense(1))\n",
    "#input_shape=(13,) means the model expects 13 input values for each example (which is exactly what X_train has).\n",
    "#A hidden layer with 64 neurons and ReLU activation\n",
    "#An output layer with 1 neuron (for regression)"
   ]
  },
  {
   "cell_type": "code",
   "execution_count": 8,
   "id": "ca43e37b",
   "metadata": {
    "execution": {
     "iopub.execute_input": "2025-04-04T16:54:20.504279Z",
     "iopub.status.busy": "2025-04-04T16:54:20.503852Z",
     "iopub.status.idle": "2025-04-04T16:54:20.517680Z",
     "shell.execute_reply": "2025-04-04T16:54:20.516512Z"
    },
    "papermill": {
     "duration": 0.020799,
     "end_time": "2025-04-04T16:54:20.519700",
     "exception": false,
     "start_time": "2025-04-04T16:54:20.498901",
     "status": "completed"
    },
    "tags": []
   },
   "outputs": [],
   "source": [
    "# Compile the model\n",
    "# - optimizer: 'adam' is a popular optimizer that adjusts learning rate automatically\n",
    "# - loss: 'mse' (Mean Squared Error) is used for regression problems\n",
    "# - metrics: 'mae' (Mean Absolute Error) to evaluate how far predictions are from actual values\n",
    "model.compile(optimizer='adam', loss='mse', metrics=['mae'])"
   ]
  },
  {
   "cell_type": "code",
   "execution_count": 9,
   "id": "60e8889b",
   "metadata": {
    "execution": {
     "iopub.execute_input": "2025-04-04T16:54:20.529226Z",
     "iopub.status.busy": "2025-04-04T16:54:20.528805Z",
     "iopub.status.idle": "2025-04-04T16:54:28.784219Z",
     "shell.execute_reply": "2025-04-04T16:54:28.783028Z"
    },
    "papermill": {
     "duration": 8.262538,
     "end_time": "2025-04-04T16:54:28.786411",
     "exception": false,
     "start_time": "2025-04-04T16:54:20.523873",
     "status": "completed"
    },
    "tags": []
   },
   "outputs": [
    {
     "name": "stdout",
     "output_type": "stream",
     "text": [
      "Epoch 1/100\n",
      "\u001b[1m11/11\u001b[0m \u001b[32m━━━━━━━━━━━━━━━━━━━━\u001b[0m\u001b[37m\u001b[0m \u001b[1m1s\u001b[0m 19ms/step - loss: 600.5128 - mae: 22.7127 - val_loss: 539.7916 - val_mae: 21.6878\n",
      "Epoch 2/100\n",
      "\u001b[1m11/11\u001b[0m \u001b[32m━━━━━━━━━━━━━━━━━━━━\u001b[0m\u001b[37m\u001b[0m \u001b[1m0s\u001b[0m 4ms/step - loss: 623.1648 - mae: 23.0193 - val_loss: 522.5780 - val_mae: 21.2920\n",
      "Epoch 3/100\n",
      "\u001b[1m11/11\u001b[0m \u001b[32m━━━━━━━━━━━━━━━━━━━━\u001b[0m\u001b[37m\u001b[0m \u001b[1m0s\u001b[0m 4ms/step - loss: 584.7467 - mae: 22.0306 - val_loss: 505.5726 - val_mae: 20.8880\n",
      "Epoch 4/100\n",
      "\u001b[1m11/11\u001b[0m \u001b[32m━━━━━━━━━━━━━━━━━━━━\u001b[0m\u001b[37m\u001b[0m \u001b[1m0s\u001b[0m 4ms/step - loss: 561.3614 - mae: 21.7492 - val_loss: 488.0917 - val_mae: 20.4609\n",
      "Epoch 5/100\n",
      "\u001b[1m11/11\u001b[0m \u001b[32m━━━━━━━━━━━━━━━━━━━━\u001b[0m\u001b[37m\u001b[0m \u001b[1m0s\u001b[0m 4ms/step - loss: 538.3051 - mae: 21.2349 - val_loss: 469.7370 - val_mae: 20.0092\n",
      "Epoch 6/100\n",
      "\u001b[1m11/11\u001b[0m \u001b[32m━━━━━━━━━━━━━━━━━━━━\u001b[0m\u001b[37m\u001b[0m \u001b[1m0s\u001b[0m 4ms/step - loss: 510.0161 - mae: 20.6419 - val_loss: 450.9522 - val_mae: 19.5415\n",
      "Epoch 7/100\n",
      "\u001b[1m11/11\u001b[0m \u001b[32m━━━━━━━━━━━━━━━━━━━━\u001b[0m\u001b[37m\u001b[0m \u001b[1m0s\u001b[0m 4ms/step - loss: 474.3269 - mae: 19.8629 - val_loss: 431.2523 - val_mae: 19.0405\n",
      "Epoch 8/100\n",
      "\u001b[1m11/11\u001b[0m \u001b[32m━━━━━━━━━━━━━━━━━━━━\u001b[0m\u001b[37m\u001b[0m \u001b[1m0s\u001b[0m 4ms/step - loss: 457.9587 - mae: 19.2586 - val_loss: 410.5273 - val_mae: 18.5058\n",
      "Epoch 9/100\n",
      "\u001b[1m11/11\u001b[0m \u001b[32m━━━━━━━━━━━━━━━━━━━━\u001b[0m\u001b[37m\u001b[0m \u001b[1m0s\u001b[0m 4ms/step - loss: 425.8871 - mae: 18.6257 - val_loss: 388.7989 - val_mae: 17.9244\n",
      "Epoch 10/100\n",
      "\u001b[1m11/11\u001b[0m \u001b[32m━━━━━━━━━━━━━━━━━━━━\u001b[0m\u001b[37m\u001b[0m \u001b[1m0s\u001b[0m 4ms/step - loss: 425.4344 - mae: 18.1374 - val_loss: 366.5590 - val_mae: 17.3170\n",
      "Epoch 11/100\n",
      "\u001b[1m11/11\u001b[0m \u001b[32m━━━━━━━━━━━━━━━━━━━━\u001b[0m\u001b[37m\u001b[0m \u001b[1m0s\u001b[0m 4ms/step - loss: 387.8400 - mae: 17.5115 - val_loss: 343.7166 - val_mae: 16.6861\n",
      "Epoch 12/100\n",
      "\u001b[1m11/11\u001b[0m \u001b[32m━━━━━━━━━━━━━━━━━━━━\u001b[0m\u001b[37m\u001b[0m \u001b[1m0s\u001b[0m 4ms/step - loss: 391.6104 - mae: 17.3348 - val_loss: 320.7390 - val_mae: 16.0408\n",
      "Epoch 13/100\n",
      "\u001b[1m11/11\u001b[0m \u001b[32m━━━━━━━━━━━━━━━━━━━━\u001b[0m\u001b[37m\u001b[0m \u001b[1m0s\u001b[0m 4ms/step - loss: 328.4653 - mae: 15.7940 - val_loss: 298.5201 - val_mae: 15.3920\n",
      "Epoch 14/100\n",
      "\u001b[1m11/11\u001b[0m \u001b[32m━━━━━━━━━━━━━━━━━━━━\u001b[0m\u001b[37m\u001b[0m \u001b[1m0s\u001b[0m 4ms/step - loss: 332.6894 - mae: 15.7113 - val_loss: 275.9175 - val_mae: 14.7181\n",
      "Epoch 15/100\n",
      "\u001b[1m11/11\u001b[0m \u001b[32m━━━━━━━━━━━━━━━━━━━━\u001b[0m\u001b[37m\u001b[0m \u001b[1m0s\u001b[0m 4ms/step - loss: 290.4365 - mae: 14.5104 - val_loss: 253.7286 - val_mae: 14.0204\n",
      "Epoch 16/100\n",
      "\u001b[1m11/11\u001b[0m \u001b[32m━━━━━━━━━━━━━━━━━━━━\u001b[0m\u001b[37m\u001b[0m \u001b[1m0s\u001b[0m 4ms/step - loss: 269.2030 - mae: 13.9773 - val_loss: 233.1146 - val_mae: 13.3270\n",
      "Epoch 17/100\n",
      "\u001b[1m11/11\u001b[0m \u001b[32m━━━━━━━━━━━━━━━━━━━━\u001b[0m\u001b[37m\u001b[0m \u001b[1m0s\u001b[0m 4ms/step - loss: 256.0086 - mae: 13.5125 - val_loss: 213.9153 - val_mae: 12.6544\n",
      "Epoch 18/100\n",
      "\u001b[1m11/11\u001b[0m \u001b[32m━━━━━━━━━━━━━━━━━━━━\u001b[0m\u001b[37m\u001b[0m \u001b[1m0s\u001b[0m 4ms/step - loss: 232.5178 - mae: 12.7733 - val_loss: 194.8938 - val_mae: 11.9558\n",
      "Epoch 19/100\n",
      "\u001b[1m11/11\u001b[0m \u001b[32m━━━━━━━━━━━━━━━━━━━━\u001b[0m\u001b[37m\u001b[0m \u001b[1m0s\u001b[0m 4ms/step - loss: 221.6737 - mae: 12.2632 - val_loss: 177.2767 - val_mae: 11.2629\n",
      "Epoch 20/100\n",
      "\u001b[1m11/11\u001b[0m \u001b[32m━━━━━━━━━━━━━━━━━━━━\u001b[0m\u001b[37m\u001b[0m \u001b[1m0s\u001b[0m 4ms/step - loss: 180.8740 - mae: 10.9145 - val_loss: 161.5280 - val_mae: 10.6061\n",
      "Epoch 21/100\n",
      "\u001b[1m11/11\u001b[0m \u001b[32m━━━━━━━━━━━━━━━━━━━━\u001b[0m\u001b[37m\u001b[0m \u001b[1m0s\u001b[0m 4ms/step - loss: 154.6050 - mae: 10.2107 - val_loss: 146.6514 - val_mae: 9.9744\n",
      "Epoch 22/100\n",
      "\u001b[1m11/11\u001b[0m \u001b[32m━━━━━━━━━━━━━━━━━━━━\u001b[0m\u001b[37m\u001b[0m \u001b[1m0s\u001b[0m 4ms/step - loss: 150.5413 - mae: 9.8263 - val_loss: 132.7410 - val_mae: 9.3392\n",
      "Epoch 23/100\n",
      "\u001b[1m11/11\u001b[0m \u001b[32m━━━━━━━━━━━━━━━━━━━━\u001b[0m\u001b[37m\u001b[0m \u001b[1m0s\u001b[0m 4ms/step - loss: 146.2152 - mae: 9.6600 - val_loss: 120.2484 - val_mae: 8.7529\n",
      "Epoch 24/100\n",
      "\u001b[1m11/11\u001b[0m \u001b[32m━━━━━━━━━━━━━━━━━━━━\u001b[0m\u001b[37m\u001b[0m \u001b[1m0s\u001b[0m 4ms/step - loss: 134.4504 - mae: 8.9376 - val_loss: 109.6133 - val_mae: 8.2472\n",
      "Epoch 25/100\n",
      "\u001b[1m11/11\u001b[0m \u001b[32m━━━━━━━━━━━━━━━━━━━━\u001b[0m\u001b[37m\u001b[0m \u001b[1m0s\u001b[0m 4ms/step - loss: 119.2118 - mae: 8.8204 - val_loss: 99.6914 - val_mae: 7.7573\n",
      "Epoch 26/100\n",
      "\u001b[1m11/11\u001b[0m \u001b[32m━━━━━━━━━━━━━━━━━━━━\u001b[0m\u001b[37m\u001b[0m \u001b[1m0s\u001b[0m 4ms/step - loss: 101.1669 - mae: 7.7911 - val_loss: 91.0089 - val_mae: 7.3054\n",
      "Epoch 27/100\n",
      "\u001b[1m11/11\u001b[0m \u001b[32m━━━━━━━━━━━━━━━━━━━━\u001b[0m\u001b[37m\u001b[0m \u001b[1m0s\u001b[0m 4ms/step - loss: 108.4567 - mae: 8.1690 - val_loss: 83.2409 - val_mae: 6.8754\n",
      "Epoch 28/100\n",
      "\u001b[1m11/11\u001b[0m \u001b[32m━━━━━━━━━━━━━━━━━━━━\u001b[0m\u001b[37m\u001b[0m \u001b[1m0s\u001b[0m 4ms/step - loss: 97.9910 - mae: 7.7020 - val_loss: 76.6855 - val_mae: 6.5105\n",
      "Epoch 29/100\n",
      "\u001b[1m11/11\u001b[0m \u001b[32m━━━━━━━━━━━━━━━━━━━━\u001b[0m\u001b[37m\u001b[0m \u001b[1m0s\u001b[0m 4ms/step - loss: 98.9007 - mae: 7.6606 - val_loss: 70.2456 - val_mae: 6.1537\n",
      "Epoch 30/100\n",
      "\u001b[1m11/11\u001b[0m \u001b[32m━━━━━━━━━━━━━━━━━━━━\u001b[0m\u001b[37m\u001b[0m \u001b[1m0s\u001b[0m 4ms/step - loss: 72.0000 - mae: 6.6166 - val_loss: 64.9290 - val_mae: 5.8565\n",
      "Epoch 31/100\n",
      "\u001b[1m11/11\u001b[0m \u001b[32m━━━━━━━━━━━━━━━━━━━━\u001b[0m\u001b[37m\u001b[0m \u001b[1m0s\u001b[0m 4ms/step - loss: 69.7151 - mae: 6.5720 - val_loss: 59.6678 - val_mae: 5.5737\n",
      "Epoch 32/100\n",
      "\u001b[1m11/11\u001b[0m \u001b[32m━━━━━━━━━━━━━━━━━━━━\u001b[0m\u001b[37m\u001b[0m \u001b[1m0s\u001b[0m 4ms/step - loss: 64.1388 - mae: 6.0482 - val_loss: 55.4142 - val_mae: 5.3435\n",
      "Epoch 33/100\n",
      "\u001b[1m11/11\u001b[0m \u001b[32m━━━━━━━━━━━━━━━━━━━━\u001b[0m\u001b[37m\u001b[0m \u001b[1m0s\u001b[0m 4ms/step - loss: 53.5993 - mae: 5.7021 - val_loss: 52.3670 - val_mae: 5.1726\n",
      "Epoch 34/100\n",
      "\u001b[1m11/11\u001b[0m \u001b[32m━━━━━━━━━━━━━━━━━━━━\u001b[0m\u001b[37m\u001b[0m \u001b[1m0s\u001b[0m 4ms/step - loss: 53.3906 - mae: 5.4889 - val_loss: 49.5627 - val_mae: 5.0093\n",
      "Epoch 35/100\n",
      "\u001b[1m11/11\u001b[0m \u001b[32m━━━━━━━━━━━━━━━━━━━━\u001b[0m\u001b[37m\u001b[0m \u001b[1m0s\u001b[0m 4ms/step - loss: 52.6548 - mae: 5.5515 - val_loss: 46.8634 - val_mae: 4.8477\n",
      "Epoch 36/100\n",
      "\u001b[1m11/11\u001b[0m \u001b[32m━━━━━━━━━━━━━━━━━━━━\u001b[0m\u001b[37m\u001b[0m \u001b[1m0s\u001b[0m 4ms/step - loss: 46.7182 - mae: 5.2555 - val_loss: 44.6292 - val_mae: 4.7175\n",
      "Epoch 37/100\n",
      "\u001b[1m11/11\u001b[0m \u001b[32m━━━━━━━━━━━━━━━━━━━━\u001b[0m\u001b[37m\u001b[0m \u001b[1m0s\u001b[0m 4ms/step - loss: 45.4301 - mae: 5.1636 - val_loss: 42.8722 - val_mae: 4.6229\n",
      "Epoch 38/100\n",
      "\u001b[1m11/11\u001b[0m \u001b[32m━━━━━━━━━━━━━━━━━━━━\u001b[0m\u001b[37m\u001b[0m \u001b[1m0s\u001b[0m 4ms/step - loss: 43.8084 - mae: 5.0320 - val_loss: 41.4537 - val_mae: 4.5550\n",
      "Epoch 39/100\n",
      "\u001b[1m11/11\u001b[0m \u001b[32m━━━━━━━━━━━━━━━━━━━━\u001b[0m\u001b[37m\u001b[0m \u001b[1m0s\u001b[0m 4ms/step - loss: 41.5135 - mae: 4.9171 - val_loss: 40.3488 - val_mae: 4.4914\n",
      "Epoch 40/100\n",
      "\u001b[1m11/11\u001b[0m \u001b[32m━━━━━━━━━━━━━━━━━━━━\u001b[0m\u001b[37m\u001b[0m \u001b[1m0s\u001b[0m 4ms/step - loss: 46.0732 - mae: 4.8851 - val_loss: 39.4419 - val_mae: 4.4337\n",
      "Epoch 41/100\n",
      "\u001b[1m11/11\u001b[0m \u001b[32m━━━━━━━━━━━━━━━━━━━━\u001b[0m\u001b[37m\u001b[0m \u001b[1m0s\u001b[0m 4ms/step - loss: 40.2213 - mae: 4.8403 - val_loss: 38.4929 - val_mae: 4.3920\n",
      "Epoch 42/100\n",
      "\u001b[1m11/11\u001b[0m \u001b[32m━━━━━━━━━━━━━━━━━━━━\u001b[0m\u001b[37m\u001b[0m \u001b[1m0s\u001b[0m 4ms/step - loss: 36.2128 - mae: 4.4777 - val_loss: 37.6135 - val_mae: 4.3509\n",
      "Epoch 43/100\n",
      "\u001b[1m11/11\u001b[0m \u001b[32m━━━━━━━━━━━━━━━━━━━━\u001b[0m\u001b[37m\u001b[0m \u001b[1m0s\u001b[0m 4ms/step - loss: 37.4595 - mae: 4.6855 - val_loss: 36.6315 - val_mae: 4.3168\n",
      "Epoch 44/100\n",
      "\u001b[1m11/11\u001b[0m \u001b[32m━━━━━━━━━━━━━━━━━━━━\u001b[0m\u001b[37m\u001b[0m \u001b[1m0s\u001b[0m 4ms/step - loss: 30.5607 - mae: 4.2514 - val_loss: 36.0369 - val_mae: 4.2893\n",
      "Epoch 45/100\n",
      "\u001b[1m11/11\u001b[0m \u001b[32m━━━━━━━━━━━━━━━━━━━━\u001b[0m\u001b[37m\u001b[0m \u001b[1m0s\u001b[0m 4ms/step - loss: 30.4508 - mae: 4.2833 - val_loss: 35.6654 - val_mae: 4.2748\n",
      "Epoch 46/100\n",
      "\u001b[1m11/11\u001b[0m \u001b[32m━━━━━━━━━━━━━━━━━━━━\u001b[0m\u001b[37m\u001b[0m \u001b[1m0s\u001b[0m 4ms/step - loss: 32.1658 - mae: 4.2669 - val_loss: 35.2034 - val_mae: 4.2662\n",
      "Epoch 47/100\n",
      "\u001b[1m11/11\u001b[0m \u001b[32m━━━━━━━━━━━━━━━━━━━━\u001b[0m\u001b[37m\u001b[0m \u001b[1m0s\u001b[0m 4ms/step - loss: 30.7306 - mae: 4.2748 - val_loss: 34.9680 - val_mae: 4.2615\n",
      "Epoch 48/100\n",
      "\u001b[1m11/11\u001b[0m \u001b[32m━━━━━━━━━━━━━━━━━━━━\u001b[0m\u001b[37m\u001b[0m \u001b[1m0s\u001b[0m 4ms/step - loss: 31.9779 - mae: 4.2281 - val_loss: 34.5690 - val_mae: 4.2472\n",
      "Epoch 49/100\n",
      "\u001b[1m11/11\u001b[0m \u001b[32m━━━━━━━━━━━━━━━━━━━━\u001b[0m\u001b[37m\u001b[0m \u001b[1m0s\u001b[0m 4ms/step - loss: 29.3482 - mae: 4.0747 - val_loss: 34.3354 - val_mae: 4.2395\n",
      "Epoch 50/100\n",
      "\u001b[1m11/11\u001b[0m \u001b[32m━━━━━━━━━━━━━━━━━━━━\u001b[0m\u001b[37m\u001b[0m \u001b[1m0s\u001b[0m 4ms/step - loss: 25.5753 - mae: 3.8801 - val_loss: 34.2220 - val_mae: 4.2318\n",
      "Epoch 51/100\n",
      "\u001b[1m11/11\u001b[0m \u001b[32m━━━━━━━━━━━━━━━━━━━━\u001b[0m\u001b[37m\u001b[0m \u001b[1m0s\u001b[0m 4ms/step - loss: 27.3288 - mae: 4.0701 - val_loss: 34.0958 - val_mae: 4.2295\n",
      "Epoch 52/100\n",
      "\u001b[1m11/11\u001b[0m \u001b[32m━━━━━━━━━━━━━━━━━━━━\u001b[0m\u001b[37m\u001b[0m \u001b[1m0s\u001b[0m 4ms/step - loss: 24.9514 - mae: 3.8528 - val_loss: 33.9968 - val_mae: 4.2226\n",
      "Epoch 53/100\n",
      "\u001b[1m11/11\u001b[0m \u001b[32m━━━━━━━━━━━━━━━━━━━━\u001b[0m\u001b[37m\u001b[0m \u001b[1m0s\u001b[0m 4ms/step - loss: 29.0568 - mae: 4.1308 - val_loss: 33.8255 - val_mae: 4.2099\n",
      "Epoch 54/100\n",
      "\u001b[1m11/11\u001b[0m \u001b[32m━━━━━━━━━━━━━━━━━━━━\u001b[0m\u001b[37m\u001b[0m \u001b[1m0s\u001b[0m 4ms/step - loss: 24.8303 - mae: 3.7996 - val_loss: 33.8009 - val_mae: 4.2021\n",
      "Epoch 55/100\n",
      "\u001b[1m11/11\u001b[0m \u001b[32m━━━━━━━━━━━━━━━━━━━━\u001b[0m\u001b[37m\u001b[0m \u001b[1m0s\u001b[0m 4ms/step - loss: 25.9502 - mae: 3.8656 - val_loss: 33.7621 - val_mae: 4.1936\n",
      "Epoch 56/100\n",
      "\u001b[1m11/11\u001b[0m \u001b[32m━━━━━━━━━━━━━━━━━━━━\u001b[0m\u001b[37m\u001b[0m \u001b[1m0s\u001b[0m 4ms/step - loss: 24.8904 - mae: 3.8225 - val_loss: 33.6681 - val_mae: 4.1831\n",
      "Epoch 57/100\n",
      "\u001b[1m11/11\u001b[0m \u001b[32m━━━━━━━━━━━━━━━━━━━━\u001b[0m\u001b[37m\u001b[0m \u001b[1m0s\u001b[0m 4ms/step - loss: 26.6681 - mae: 4.0089 - val_loss: 33.4539 - val_mae: 4.1683\n",
      "Epoch 58/100\n",
      "\u001b[1m11/11\u001b[0m \u001b[32m━━━━━━━━━━━━━━━━━━━━\u001b[0m\u001b[37m\u001b[0m \u001b[1m0s\u001b[0m 4ms/step - loss: 24.9830 - mae: 3.7923 - val_loss: 33.0131 - val_mae: 4.1497\n",
      "Epoch 59/100\n",
      "\u001b[1m11/11\u001b[0m \u001b[32m━━━━━━━━━━━━━━━━━━━━\u001b[0m\u001b[37m\u001b[0m \u001b[1m0s\u001b[0m 4ms/step - loss: 28.0848 - mae: 3.9428 - val_loss: 32.8189 - val_mae: 4.1366\n",
      "Epoch 60/100\n",
      "\u001b[1m11/11\u001b[0m \u001b[32m━━━━━━━━━━━━━━━━━━━━\u001b[0m\u001b[37m\u001b[0m \u001b[1m0s\u001b[0m 4ms/step - loss: 26.5239 - mae: 4.0012 - val_loss: 32.6603 - val_mae: 4.1223\n",
      "Epoch 61/100\n",
      "\u001b[1m11/11\u001b[0m \u001b[32m━━━━━━━━━━━━━━━━━━━━\u001b[0m\u001b[37m\u001b[0m \u001b[1m0s\u001b[0m 4ms/step - loss: 24.9256 - mae: 3.7527 - val_loss: 32.5563 - val_mae: 4.1059\n",
      "Epoch 62/100\n",
      "\u001b[1m11/11\u001b[0m \u001b[32m━━━━━━━━━━━━━━━━━━━━\u001b[0m\u001b[37m\u001b[0m \u001b[1m0s\u001b[0m 4ms/step - loss: 23.9247 - mae: 3.7502 - val_loss: 32.5009 - val_mae: 4.0967\n",
      "Epoch 63/100\n",
      "\u001b[1m11/11\u001b[0m \u001b[32m━━━━━━━━━━━━━━━━━━━━\u001b[0m\u001b[37m\u001b[0m \u001b[1m0s\u001b[0m 4ms/step - loss: 20.6189 - mae: 3.5260 - val_loss: 32.4325 - val_mae: 4.0868\n",
      "Epoch 64/100\n",
      "\u001b[1m11/11\u001b[0m \u001b[32m━━━━━━━━━━━━━━━━━━━━\u001b[0m\u001b[37m\u001b[0m \u001b[1m0s\u001b[0m 4ms/step - loss: 25.6997 - mae: 3.8345 - val_loss: 32.3079 - val_mae: 4.0713\n",
      "Epoch 65/100\n",
      "\u001b[1m11/11\u001b[0m \u001b[32m━━━━━━━━━━━━━━━━━━━━\u001b[0m\u001b[37m\u001b[0m \u001b[1m0s\u001b[0m 4ms/step - loss: 23.1591 - mae: 3.6582 - val_loss: 32.2359 - val_mae: 4.0598\n",
      "Epoch 66/100\n",
      "\u001b[1m11/11\u001b[0m \u001b[32m━━━━━━━━━━━━━━━━━━━━\u001b[0m\u001b[37m\u001b[0m \u001b[1m0s\u001b[0m 4ms/step - loss: 20.9241 - mae: 3.4910 - val_loss: 32.0721 - val_mae: 4.0443\n",
      "Epoch 67/100\n",
      "\u001b[1m11/11\u001b[0m \u001b[32m━━━━━━━━━━━━━━━━━━━━\u001b[0m\u001b[37m\u001b[0m \u001b[1m0s\u001b[0m 4ms/step - loss: 21.2535 - mae: 3.5812 - val_loss: 31.9939 - val_mae: 4.0333\n",
      "Epoch 68/100\n",
      "\u001b[1m11/11\u001b[0m \u001b[32m━━━━━━━━━━━━━━━━━━━━\u001b[0m\u001b[37m\u001b[0m \u001b[1m0s\u001b[0m 4ms/step - loss: 22.9918 - mae: 3.7084 - val_loss: 31.7921 - val_mae: 4.0144\n",
      "Epoch 69/100\n",
      "\u001b[1m11/11\u001b[0m \u001b[32m━━━━━━━━━━━━━━━━━━━━\u001b[0m\u001b[37m\u001b[0m \u001b[1m0s\u001b[0m 4ms/step - loss: 24.2525 - mae: 3.7651 - val_loss: 31.5263 - val_mae: 3.9946\n",
      "Epoch 70/100\n",
      "\u001b[1m11/11\u001b[0m \u001b[32m━━━━━━━━━━━━━━━━━━━━\u001b[0m\u001b[37m\u001b[0m \u001b[1m0s\u001b[0m 4ms/step - loss: 21.1590 - mae: 3.5797 - val_loss: 31.3735 - val_mae: 3.9794\n",
      "Epoch 71/100\n",
      "\u001b[1m11/11\u001b[0m \u001b[32m━━━━━━━━━━━━━━━━━━━━\u001b[0m\u001b[37m\u001b[0m \u001b[1m0s\u001b[0m 4ms/step - loss: 18.6821 - mae: 3.3690 - val_loss: 31.2384 - val_mae: 3.9661\n",
      "Epoch 72/100\n",
      "\u001b[1m11/11\u001b[0m \u001b[32m━━━━━━━━━━━━━━━━━━━━\u001b[0m\u001b[37m\u001b[0m \u001b[1m0s\u001b[0m 4ms/step - loss: 22.8701 - mae: 3.6164 - val_loss: 31.0485 - val_mae: 3.9527\n",
      "Epoch 73/100\n",
      "\u001b[1m11/11\u001b[0m \u001b[32m━━━━━━━━━━━━━━━━━━━━\u001b[0m\u001b[37m\u001b[0m \u001b[1m0s\u001b[0m 4ms/step - loss: 21.4473 - mae: 3.4908 - val_loss: 30.8800 - val_mae: 3.9395\n",
      "Epoch 74/100\n",
      "\u001b[1m11/11\u001b[0m \u001b[32m━━━━━━━━━━━━━━━━━━━━\u001b[0m\u001b[37m\u001b[0m \u001b[1m0s\u001b[0m 4ms/step - loss: 21.0965 - mae: 3.4235 - val_loss: 30.6142 - val_mae: 3.9204\n",
      "Epoch 75/100\n",
      "\u001b[1m11/11\u001b[0m \u001b[32m━━━━━━━━━━━━━━━━━━━━\u001b[0m\u001b[37m\u001b[0m \u001b[1m0s\u001b[0m 4ms/step - loss: 23.0593 - mae: 3.6630 - val_loss: 30.4302 - val_mae: 3.9014\n",
      "Epoch 76/100\n",
      "\u001b[1m11/11\u001b[0m \u001b[32m━━━━━━━━━━━━━━━━━━━━\u001b[0m\u001b[37m\u001b[0m \u001b[1m0s\u001b[0m 5ms/step - loss: 22.4438 - mae: 3.7173 - val_loss: 30.4191 - val_mae: 3.8925\n",
      "Epoch 77/100\n",
      "\u001b[1m11/11\u001b[0m \u001b[32m━━━━━━━━━━━━━━━━━━━━\u001b[0m\u001b[37m\u001b[0m \u001b[1m0s\u001b[0m 4ms/step - loss: 17.8915 - mae: 3.1490 - val_loss: 30.3010 - val_mae: 3.8789\n",
      "Epoch 78/100\n",
      "\u001b[1m11/11\u001b[0m \u001b[32m━━━━━━━━━━━━━━━━━━━━\u001b[0m\u001b[37m\u001b[0m \u001b[1m0s\u001b[0m 4ms/step - loss: 23.9129 - mae: 3.6307 - val_loss: 29.8187 - val_mae: 3.8502\n",
      "Epoch 79/100\n",
      "\u001b[1m11/11\u001b[0m \u001b[32m━━━━━━━━━━━━━━━━━━━━\u001b[0m\u001b[37m\u001b[0m \u001b[1m0s\u001b[0m 4ms/step - loss: 18.3186 - mae: 3.2384 - val_loss: 29.6255 - val_mae: 3.8342\n",
      "Epoch 80/100\n",
      "\u001b[1m11/11\u001b[0m \u001b[32m━━━━━━━━━━━━━━━━━━━━\u001b[0m\u001b[37m\u001b[0m \u001b[1m0s\u001b[0m 4ms/step - loss: 22.5394 - mae: 3.5782 - val_loss: 29.5517 - val_mae: 3.8209\n",
      "Epoch 81/100\n",
      "\u001b[1m11/11\u001b[0m \u001b[32m━━━━━━━━━━━━━━━━━━━━\u001b[0m\u001b[37m\u001b[0m \u001b[1m0s\u001b[0m 4ms/step - loss: 21.8889 - mae: 3.4826 - val_loss: 29.4490 - val_mae: 3.8099\n",
      "Epoch 82/100\n",
      "\u001b[1m11/11\u001b[0m \u001b[32m━━━━━━━━━━━━━━━━━━━━\u001b[0m\u001b[37m\u001b[0m \u001b[1m0s\u001b[0m 4ms/step - loss: 18.9297 - mae: 3.2636 - val_loss: 29.1734 - val_mae: 3.7924\n",
      "Epoch 83/100\n",
      "\u001b[1m11/11\u001b[0m \u001b[32m━━━━━━━━━━━━━━━━━━━━\u001b[0m\u001b[37m\u001b[0m \u001b[1m0s\u001b[0m 5ms/step - loss: 19.6567 - mae: 3.4071 - val_loss: 28.9874 - val_mae: 3.7753\n",
      "Epoch 84/100\n",
      "\u001b[1m11/11\u001b[0m \u001b[32m━━━━━━━━━━━━━━━━━━━━\u001b[0m\u001b[37m\u001b[0m \u001b[1m0s\u001b[0m 5ms/step - loss: 18.7737 - mae: 3.2974 - val_loss: 28.7682 - val_mae: 3.7573\n",
      "Epoch 85/100\n",
      "\u001b[1m11/11\u001b[0m \u001b[32m━━━━━━━━━━━━━━━━━━━━\u001b[0m\u001b[37m\u001b[0m \u001b[1m0s\u001b[0m 4ms/step - loss: 18.3257 - mae: 3.1549 - val_loss: 28.5611 - val_mae: 3.7435\n",
      "Epoch 86/100\n",
      "\u001b[1m11/11\u001b[0m \u001b[32m━━━━━━━━━━━━━━━━━━━━\u001b[0m\u001b[37m\u001b[0m \u001b[1m0s\u001b[0m 4ms/step - loss: 17.9966 - mae: 3.1836 - val_loss: 28.3226 - val_mae: 3.7295\n",
      "Epoch 87/100\n",
      "\u001b[1m11/11\u001b[0m \u001b[32m━━━━━━━━━━━━━━━━━━━━\u001b[0m\u001b[37m\u001b[0m \u001b[1m0s\u001b[0m 4ms/step - loss: 17.5168 - mae: 3.2084 - val_loss: 28.0709 - val_mae: 3.7244\n",
      "Epoch 88/100\n",
      "\u001b[1m11/11\u001b[0m \u001b[32m━━━━━━━━━━━━━━━━━━━━\u001b[0m\u001b[37m\u001b[0m \u001b[1m0s\u001b[0m 4ms/step - loss: 16.4310 - mae: 3.1075 - val_loss: 28.0833 - val_mae: 3.7201\n",
      "Epoch 89/100\n",
      "\u001b[1m11/11\u001b[0m \u001b[32m━━━━━━━━━━━━━━━━━━━━\u001b[0m\u001b[37m\u001b[0m \u001b[1m0s\u001b[0m 4ms/step - loss: 21.0168 - mae: 3.4787 - val_loss: 28.0054 - val_mae: 3.7048\n",
      "Epoch 90/100\n",
      "\u001b[1m11/11\u001b[0m \u001b[32m━━━━━━━━━━━━━━━━━━━━\u001b[0m\u001b[37m\u001b[0m \u001b[1m0s\u001b[0m 4ms/step - loss: 19.8253 - mae: 3.2959 - val_loss: 27.8768 - val_mae: 3.6943\n",
      "Epoch 91/100\n",
      "\u001b[1m11/11\u001b[0m \u001b[32m━━━━━━━━━━━━━━━━━━━━\u001b[0m\u001b[37m\u001b[0m \u001b[1m0s\u001b[0m 4ms/step - loss: 16.2046 - mae: 3.1927 - val_loss: 28.1229 - val_mae: 3.7120\n",
      "Epoch 92/100\n",
      "\u001b[1m11/11\u001b[0m \u001b[32m━━━━━━━━━━━━━━━━━━━━\u001b[0m\u001b[37m\u001b[0m \u001b[1m0s\u001b[0m 5ms/step - loss: 19.8890 - mae: 3.3495 - val_loss: 27.9487 - val_mae: 3.7015\n",
      "Epoch 93/100\n",
      "\u001b[1m11/11\u001b[0m \u001b[32m━━━━━━━━━━━━━━━━━━━━\u001b[0m\u001b[37m\u001b[0m \u001b[1m0s\u001b[0m 4ms/step - loss: 18.5193 - mae: 3.3126 - val_loss: 27.6748 - val_mae: 3.6794\n",
      "Epoch 94/100\n",
      "\u001b[1m11/11\u001b[0m \u001b[32m━━━━━━━━━━━━━━━━━━━━\u001b[0m\u001b[37m\u001b[0m \u001b[1m0s\u001b[0m 5ms/step - loss: 18.0693 - mae: 3.3021 - val_loss: 27.3416 - val_mae: 3.6531\n",
      "Epoch 95/100\n",
      "\u001b[1m11/11\u001b[0m \u001b[32m━━━━━━━━━━━━━━━━━━━━\u001b[0m\u001b[37m\u001b[0m \u001b[1m0s\u001b[0m 5ms/step - loss: 17.5324 - mae: 3.2424 - val_loss: 26.7898 - val_mae: 3.6167\n",
      "Epoch 96/100\n",
      "\u001b[1m11/11\u001b[0m \u001b[32m━━━━━━━━━━━━━━━━━━━━\u001b[0m\u001b[37m\u001b[0m \u001b[1m0s\u001b[0m 4ms/step - loss: 19.6708 - mae: 3.3133 - val_loss: 26.6345 - val_mae: 3.6035\n",
      "Epoch 97/100\n",
      "\u001b[1m11/11\u001b[0m \u001b[32m━━━━━━━━━━━━━━━━━━━━\u001b[0m\u001b[37m\u001b[0m \u001b[1m0s\u001b[0m 4ms/step - loss: 15.6935 - mae: 3.1155 - val_loss: 26.5921 - val_mae: 3.5911\n",
      "Epoch 98/100\n",
      "\u001b[1m11/11\u001b[0m \u001b[32m━━━━━━━━━━━━━━━━━━━━\u001b[0m\u001b[37m\u001b[0m \u001b[1m0s\u001b[0m 4ms/step - loss: 19.2115 - mae: 3.3537 - val_loss: 26.5385 - val_mae: 3.5864\n",
      "Epoch 99/100\n",
      "\u001b[1m11/11\u001b[0m \u001b[32m━━━━━━━━━━━━━━━━━━━━\u001b[0m\u001b[37m\u001b[0m \u001b[1m0s\u001b[0m 5ms/step - loss: 16.9717 - mae: 3.1558 - val_loss: 26.2996 - val_mae: 3.5741\n",
      "Epoch 100/100\n",
      "\u001b[1m11/11\u001b[0m \u001b[32m━━━━━━━━━━━━━━━━━━━━\u001b[0m\u001b[37m\u001b[0m \u001b[1m0s\u001b[0m 5ms/step - loss: 15.7375 - mae: 3.0578 - val_loss: 25.9349 - val_mae: 3.5487\n"
     ]
    }
   ],
   "source": [
    "# - X_train, y_train: training data\n",
    "# - epochs=100: train the model for 100 full passes over the data\n",
    "# - validation_split=0.2: use 20% of training data for validation\n",
    "# - verbose=1: show training progress\n",
    "history = model.fit(X_train, y_train, epochs=100, validation_split=0.2, verbose=1)"
   ]
  },
  {
   "cell_type": "markdown",
   "id": "a9a265fe",
   "metadata": {
    "papermill": {
     "duration": 0.020427,
     "end_time": "2025-04-04T16:54:28.835726",
     "exception": false,
     "start_time": "2025-04-04T16:54:28.815299",
     "status": "completed"
    },
    "tags": []
   },
   "source": [
    "**Evaluate the Model**"
   ]
  },
  {
   "cell_type": "code",
   "execution_count": 10,
   "id": "81819ee8",
   "metadata": {
    "execution": {
     "iopub.execute_input": "2025-04-04T16:54:28.879735Z",
     "iopub.status.busy": "2025-04-04T16:54:28.879241Z",
     "iopub.status.idle": "2025-04-04T16:54:28.983252Z",
     "shell.execute_reply": "2025-04-04T16:54:28.982059Z"
    },
    "papermill": {
     "duration": 0.128934,
     "end_time": "2025-04-04T16:54:28.985721",
     "exception": false,
     "start_time": "2025-04-04T16:54:28.856787",
     "status": "completed"
    },
    "tags": []
   },
   "outputs": [
    {
     "name": "stdout",
     "output_type": "stream",
     "text": [
      "\u001b[1m4/4\u001b[0m \u001b[32m━━━━━━━━━━━━━━━━━━━━\u001b[0m\u001b[37m\u001b[0m \u001b[1m0s\u001b[0m 3ms/step - loss: 17.1053 - mae: 2.8713 \n",
      "Mean Absolute Error on Test Set: 2.990668296813965\n"
     ]
    }
   ],
   "source": [
    "# Evaluate the model on the test dataset\n",
    "# This calculates the loss (Mean Squared Error) and MAE (Mean Absolute Error) on unseen data\n",
    "loss, mae = model.evaluate(X_test, y_test)\n",
    "\n",
    "# Print the MAE value\n",
    "# MAE tells us how far our predictions are from the actual values, on average\n",
    "print(\"Mean Absolute Error on Test Set:\", mae)"
   ]
  },
  {
   "cell_type": "markdown",
   "id": "f1c692c3",
   "metadata": {
    "papermill": {
     "duration": 0.020588,
     "end_time": "2025-04-04T16:54:29.047680",
     "exception": false,
     "start_time": "2025-04-04T16:54:29.027092",
     "status": "completed"
    },
    "tags": []
   },
   "source": [
    "**Plot the Loss**"
   ]
  },
  {
   "cell_type": "code",
   "execution_count": 11,
   "id": "6b7fca29",
   "metadata": {
    "execution": {
     "iopub.execute_input": "2025-04-04T16:54:29.089632Z",
     "iopub.status.busy": "2025-04-04T16:54:29.089239Z",
     "iopub.status.idle": "2025-04-04T16:54:29.415590Z",
     "shell.execute_reply": "2025-04-04T16:54:29.414153Z"
    },
    "papermill": {
     "duration": 0.349347,
     "end_time": "2025-04-04T16:54:29.417501",
     "exception": false,
     "start_time": "2025-04-04T16:54:29.068154",
     "status": "completed"
    },
    "tags": []
   },
   "outputs": [
    {
     "data": {
      "image/png": "[encoded data removed]",
      "text/plain": [
       "<Figure size 640x480 with 1 Axes>"
      ]
     },
     "metadata": {},
     "output_type": "display_data"
    }
   ],
   "source": [
    "# Plot training and validation loss to see how the model is learning\n",
    "\n",
    "# Plot the training loss over epochs\n",
    "plt.plot(history.history['loss'], label='Train Loss')\n",
    "\n",
    "# Plot the validation loss over epochs\n",
    "plt.plot(history.history['val_loss'], label='Validation Loss')\n",
    "\n",
    "# Label the x-axis as \"Epochs\"\n",
    "plt.xlabel(\"Epochs\")\n",
    "\n",
    "# Label the y-axis as \"MSE Loss\" (Mean Squared Error)\n",
    "plt.ylabel(\"MSE Loss\")\n",
    "\n",
    "# Show the legend to distinguish between train and validation lines\n",
    "plt.legend()\n",
    "\n",
    "# Add a title to the plot\n",
    "plt.title(\"Training vs Validation Loss\")\n",
    "\n",
    "# Display the plot\n",
    "plt.show()\n"
   ]
  },
  {
   "cell_type": "code",
   "execution_count": null,
   "id": "4ba4cf56",
   "metadata": {
    "papermill": {
     "duration": 0.021102,
     "end_time": "2025-04-04T16:54:29.460810",
     "exception": false,
     "start_time": "2025-04-04T16:54:29.439708",
     "status": "completed"
    },
    "tags": []
   },
   "outputs": [],
   "source": []
  }
 ],
 "metadata": {
  "kaggle": {
   "accelerator": "none",
   "dataSources": [
    {
     "datasetId": 1381830,
     "sourceId": 2292500,
     "sourceType": "datasetVersion"
    }
   ],
   "dockerImageVersionId": 30918,
   "isGpuEnabled": false,
   "isInternetEnabled": false,
   "language": "python",
   "sourceType": "notebook"
  },
  "kernelspec": {
   "display_name": "Python 3",
   "language": "python",
   "name": "python3"
  },
  "language_info": {
   "codemirror_mode": {
    "name": "ipython",
    "version": 3
   },
   "file_extension": ".py",
   "mimetype": "text/x-python",
   "name": "python",
   "nbconvert_exporter": "python",
   "pygments_lexer": "ipython3",
   "version": "3.10.12"
  },
  "papermill": {
   "default_parameters": {},
   "duration": 31.596392,
   "end_time": "2025-04-04T16:54:32.174793",
   "environment_variables": {},
   "exception": null,
   "input_path": "__notebook__.ipynb",
   "output_path": "__notebook__.ipynb",
   "parameters": {},
   "start_time": "2025-04-04T16:54:00.578401",
   "version": "2.6.0"
  }
 },
 "nbformat": 4,
 "nbformat_minor": 5
}
